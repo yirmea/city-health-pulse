{
 "cells": [
  {
   "cell_type": "code",
   "execution_count": 57,
   "id": "e7098864",
   "metadata": {},
   "outputs": [],
   "source": [
    "from dotenv import load_dotenv\n",
    "import os\n",
    "import requests\n",
    "import pandas as pd\n",
    "import re\n",
    "import numpy as np\n",
    "\n",
    "load_dotenv()\n",
    "census_key = os.getenv(\"CENSUS_API_KEY\")"
   ]
  },
  {
   "cell_type": "markdown",
   "id": "dfa71b4e",
   "metadata": {},
   "source": [
    "Call Census ACS5 API for (var) at Tract Level\n",
    "- Total Population (B01003_001E)\n",
    "- Uninsured Populatoin Segment (B27001_004E)\n",
    "- Median household income (B19013_001E)"
   ]
  },
  {
   "cell_type": "code",
   "execution_count": 58,
   "id": "6f8f47e7",
   "metadata": {},
   "outputs": [],
   "source": [
    "YEAR = 2019\n",
    "base_url = f\"https://api.census.gov/data/{YEAR}/acs/acs5\"\n",
    "\n",
    "# call to census ACS5 2019 API at tract level\n",
    "def call(state, county, tract):\n",
    "    if tract == 'ALL':\n",
    "        for_val = 'tract:*'\n",
    "    else:\n",
    "        for_val = f'tract:{tract}'\n",
    "    params = {\n",
    "        \"get\": \"B01003_001E,B27001_004E,B19013_001E,NAME\",\n",
    "        \"for\": for_val, \n",
    "        \"in\": f\"state:{state}+county:{county}\",\n",
    "        \"key\": census_key\n",
    "    }\n",
    "\n",
    "    response = requests.get(base_url, params)\n",
    "\n",
    "    print(response)\n",
    "\n",
    "    if response.status_code == 200:\n",
    "        data = response.json()\n",
    "    else:\n",
    "        print(\"Error:\", response.status_code)\n",
    "    \n",
    "    return data\n",
    "\n",
    "# return a tuple (state, county, tract) from an 11-digit FIPS\n",
    "# does not check for validity\n",
    "def code_to_tuple(census_tract: str) -> tuple[str]:\n",
    "    ids = []\n",
    "    ids = re.match(r'(\\d{2})(\\d{3})(\\d{6})', census_tract)\n",
    "    tup = (ids.group(1), ids.group(2), ids.group(3))\n",
    "    return tup\n",
    "\n",
    "\n",
    "def get_pop_batched(census_tract: str):\n",
    "    tup = code_to_tuple(census_tract)\n",
    "    data = call(tup[0], tup[1], 'ALL')\n",
    "    acs_data = pd.DataFrame(data)\n",
    "    return data\n",
    "\n",
    "# All data for california\n",
    "def california_call():\n",
    "    params = {\n",
    "        \"get\": \"B01003_001E,B27001_004E,B19013_001E,NAME\",\n",
    "        \"for\": 'tract:*', \n",
    "        \"in\": f\"state:06+county:*\",\n",
    "        \"key\": census_key\n",
    "    }\n",
    "\n",
    "    response = requests.get(base_url, params)\n",
    "\n",
    "    if response.status_code == 200:\n",
    "        data = response.json()\n",
    "    else: \n",
    "        print(\"Error:\", response.status_code)\n",
    "    \n",
    "    return data\n"
   ]
  },
  {
   "cell_type": "code",
   "execution_count": 59,
   "id": "7b6d7fe5",
   "metadata": {},
   "outputs": [
    {
     "data": {
      "text/html": [
       "<div>\n",
       "<style scoped>\n",
       "    .dataframe tbody tr th:only-of-type {\n",
       "        vertical-align: middle;\n",
       "    }\n",
       "\n",
       "    .dataframe tbody tr th {\n",
       "        vertical-align: top;\n",
       "    }\n",
       "\n",
       "    .dataframe thead th {\n",
       "        text-align: right;\n",
       "    }\n",
       "</style>\n",
       "<table border=\"1\" class=\"dataframe\">\n",
       "  <thead>\n",
       "    <tr style=\"text-align: right;\">\n",
       "      <th></th>\n",
       "      <th>TotalPop</th>\n",
       "      <th>UninsuredPop</th>\n",
       "      <th>MedHouseInc</th>\n",
       "      <th>GEOID</th>\n",
       "    </tr>\n",
       "  </thead>\n",
       "  <tbody>\n",
       "    <tr>\n",
       "      <th>0</th>\n",
       "      <td>3195</td>\n",
       "      <td>39</td>\n",
       "      <td>206607</td>\n",
       "      <td>06085507904</td>\n",
       "    </tr>\n",
       "    <tr>\n",
       "      <th>1</th>\n",
       "      <td>8604</td>\n",
       "      <td>537</td>\n",
       "      <td>114300</td>\n",
       "      <td>06085508504</td>\n",
       "    </tr>\n",
       "    <tr>\n",
       "      <th>2</th>\n",
       "      <td>4871</td>\n",
       "      <td>218</td>\n",
       "      <td>152969</td>\n",
       "      <td>06085508505</td>\n",
       "    </tr>\n",
       "  </tbody>\n",
       "</table>\n",
       "</div>"
      ],
      "text/plain": [
       "  TotalPop UninsuredPop MedHouseInc        GEOID\n",
       "0     3195           39      206607  06085507904\n",
       "1     8604          537      114300  06085508504\n",
       "2     4871          218      152969  06085508505"
      ]
     },
     "execution_count": 59,
     "metadata": {},
     "output_type": "execute_result"
    }
   ],
   "source": [
    "\n",
    "acs_data = california_call()\n",
    "\n",
    "acs_df = pd.DataFrame(data=acs_data[1:], columns = acs_data[0])\n",
    "\n",
    "acs_df.rename(columns={\n",
    "    \"B01003_001E\": \"TotalPop\",\n",
    "    \"B27001_004E\": \"UninsuredPop\",\n",
    "    \"B19013_001E\": \"MedHouseInc\"\n",
    "    }, inplace=True)\n",
    "\n",
    "acs_df['GEOID'] = acs_df['state'] + acs_df['county'] + acs_df['tract']\n",
    "acs_df.drop(columns=['state', 'county', 'tract', 'NAME'], inplace=True)\n",
    "\n",
    "acs_df.head(3)\n"
   ]
  },
  {
   "cell_type": "markdown",
   "id": "9354a183",
   "metadata": {},
   "source": [
    "Remove Census Null value marker from Median House Income "
   ]
  },
  {
   "cell_type": "code",
   "execution_count": 55,
   "id": "38469e8f",
   "metadata": {},
   "outputs": [],
   "source": [
    "acs_df.MedHouseInc.replace(\"-666666666\", None, inplace=True)"
   ]
  },
  {
   "cell_type": "code",
   "execution_count": 56,
   "id": "26554899",
   "metadata": {},
   "outputs": [],
   "source": [
    "acs_df.shape\n",
    "acs_df.to_csv('../data/raw/ACS5 2019.csv')"
   ]
  },
  {
   "cell_type": "markdown",
   "id": "d4eca9f3",
   "metadata": {},
   "source": [
    "Split USDA into 1/2, 1, 10, 20\n",
    "\n",
    "Thoughts:\n",
    "- is there real reason to, if I want to regress on this data later, it would work against me to have them in different datasets\n",
    "- The healthoutcomes for a tract take into account all persons, not just those who are farther away from food sources\n",
    "- Do this in the exploratory Analysis, for this phase just worry about collecting data, that means extracting tract data and refering to the API for corresponding population estimates\n",
    "- Another example could be get the fara for another year and see if there's a correlation between more or less restricted food access and the progression of health outcomes with time ???\n"
   ]
  }
 ],
 "metadata": {
  "kernelspec": {
   "display_name": "Python 3",
   "language": "python",
   "name": "python3"
  },
  "language_info": {
   "codemirror_mode": {
    "name": "ipython",
    "version": 3
   },
   "file_extension": ".py",
   "mimetype": "text/x-python",
   "name": "python",
   "nbconvert_exporter": "python",
   "pygments_lexer": "ipython3",
   "version": "3.13.5"
  }
 },
 "nbformat": 4,
 "nbformat_minor": 5
}
