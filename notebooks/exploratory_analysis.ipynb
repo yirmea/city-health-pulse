{
 "cells": [
  {
   "cell_type": "code",
   "execution_count": 30,
   "id": "45387af7",
   "metadata": {},
   "outputs": [],
   "source": [
    "import pandas as pd\n",
    "import numpy as np \n",
    "import seaborn as sns\n",
    "import matplotlib.pyplot as plt\n",
    "from scipy.stats import pearsonr\n",
    "import re"
   ]
  },
  {
   "cell_type": "markdown",
   "id": "1eb3d5e0",
   "metadata": {},
   "source": [
    "Import Data"
   ]
  },
  {
   "cell_type": "code",
   "execution_count": null,
   "id": "81669e68",
   "metadata": {},
   "outputs": [],
   "source": [
    "df = pd.read_csv(\"../data/processed/Fara+500.csv\")"
   ]
  },
  {
   "cell_type": "markdown",
   "id": "bfb6c53b",
   "metadata": {},
   "source": [
    "List columns for copy and paste :)"
   ]
  },
  {
   "cell_type": "code",
   "execution_count": 7,
   "id": "eeb8c24a",
   "metadata": {},
   "outputs": [
    {
     "data": {
      "text/plain": [
       "Index(['Unnamed: 0.1', 'CountyName', 'GEOID', 'TotalPopulation',\n",
       "       'ACCESS2_CrudePrev', 'ACCESS2_Crude95CI', 'ARTHRITIS_CrudePrev',\n",
       "       'ARTHRITIS_Crude95CI', 'BINGE_CrudePrev', 'BINGE_Crude95CI',\n",
       "       'BPHIGH_CrudePrev', 'BPHIGH_Crude95CI', 'BPMED_CrudePrev',\n",
       "       'BPMED_Crude95CI', 'CANCER_CrudePrev', 'CANCER_Crude95CI',\n",
       "       'CASTHMA_CrudePrev', 'CASTHMA_Crude95CI', 'CERVICAL_CrudePrev',\n",
       "       'CERVICAL_Crude95CI', 'CHD_CrudePrev', 'CHD_Crude95CI',\n",
       "       'CHECKUP_CrudePrev', 'CHECKUP_Crude95CI', 'CHOLSCREEN_CrudePrev',\n",
       "       'CHOLSCREEN_Crude95CI', 'COLON_SCREEN_CrudePrev',\n",
       "       'COLON_SCREEN_Crude95CI', 'COPD_CrudePrev', 'COPD_Crude95CI',\n",
       "       'COREM_CrudePrev', 'COREM_Crude95CI', 'COREW_CrudePrev',\n",
       "       'COREW_Crude95CI', 'CSMOKING_CrudePrev', 'CSMOKING_Crude95CI',\n",
       "       'DENTAL_CrudePrev', 'DENTAL_Crude95CI', 'DEPRESSION_CrudePrev',\n",
       "       'DEPRESSION_Crude95CI', 'DIABETES_CrudePrev', 'DIABETES_Crude95CI',\n",
       "       'GHLTH_CrudePrev', 'GHLTH_Crude95CI', 'HIGHCHOL_CrudePrev',\n",
       "       'HIGHCHOL_Crude95CI', 'KIDNEY_CrudePrev', 'KIDNEY_Crude95CI',\n",
       "       'LPA_CrudePrev', 'LPA_Crude95CI', 'MAMMOUSE_CrudePrev',\n",
       "       'MAMMOUSE_Crude95CI', 'MHLTH_CrudePrev', 'MHLTH_Crude95CI',\n",
       "       'OBESITY_CrudePrev', 'OBESITY_Crude95CI', 'PHLTH_CrudePrev',\n",
       "       'PHLTH_Crude95CI', 'SLEEP_CrudePrev', 'SLEEP_Crude95CI',\n",
       "       'STROKE_CrudePrev', 'STROKE_Crude95CI', 'TEETHLOST_CrudePrev',\n",
       "       'TEETHLOST_Crude95CI', 'Geolocation', 'County', 'Urban', 'Pop2010',\n",
       "       'OHU2010', 'LILATracts_1And10', 'LILATracts_halfAnd10',\n",
       "       'LILATracts_1And20', 'LILATracts_Vehicle', 'HUNVFlag',\n",
       "       'LowIncomeTracts', 'PovertyRate', 'MedianFamilyIncome', 'LA1and10',\n",
       "       'LAhalfand10', 'LA1and20', 'LATracts_half', 'LATracts1', 'LATracts10',\n",
       "       'LATracts20', 'LATractsVehicle_20', 'LAPOP1_10', 'LAPOP05_10',\n",
       "       'LAPOP1_20', 'LALOWI1_10', 'LALOWI05_10', 'LALOWI1_20', 'TractLOWI',\n",
       "       'Unnamed: 0', 'TotalPop', 'UninsuredPop', 'MedHouseInc'],\n",
       "      dtype='object')"
      ]
     },
     "execution_count": 7,
     "metadata": {},
     "output_type": "execute_result"
    }
   ],
   "source": [
    "df.columns"
   ]
  },
  {
   "cell_type": "markdown",
   "id": "f19ac8b6",
   "metadata": {},
   "source": [
    "Correlation matrix for Diabetes Crude Estimate and Low Access Indicators"
   ]
  },
  {
   "cell_type": "code",
   "execution_count": 17,
   "id": "6935e731",
   "metadata": {},
   "outputs": [
    {
     "data": {
      "text/html": [
       "<div>\n",
       "<style scoped>\n",
       "    .dataframe tbody tr th:only-of-type {\n",
       "        vertical-align: middle;\n",
       "    }\n",
       "\n",
       "    .dataframe tbody tr th {\n",
       "        vertical-align: top;\n",
       "    }\n",
       "\n",
       "    .dataframe thead th {\n",
       "        text-align: right;\n",
       "    }\n",
       "</style>\n",
       "<table border=\"1\" class=\"dataframe\">\n",
       "  <thead>\n",
       "    <tr style=\"text-align: right;\">\n",
       "      <th></th>\n",
       "      <th>DIABETES_CrudePrev</th>\n",
       "      <th>LATracts1</th>\n",
       "      <th>LATracts10</th>\n",
       "      <th>LATracts20</th>\n",
       "    </tr>\n",
       "  </thead>\n",
       "  <tbody>\n",
       "    <tr>\n",
       "      <th>DIABETES_CrudePrev</th>\n",
       "      <td>1.000000</td>\n",
       "      <td>-0.105495</td>\n",
       "      <td>0.064192</td>\n",
       "      <td>0.030971</td>\n",
       "    </tr>\n",
       "    <tr>\n",
       "      <th>LATracts1</th>\n",
       "      <td>-0.105495</td>\n",
       "      <td>1.000000</td>\n",
       "      <td>-0.061488</td>\n",
       "      <td>-0.026085</td>\n",
       "    </tr>\n",
       "    <tr>\n",
       "      <th>LATracts10</th>\n",
       "      <td>0.064192</td>\n",
       "      <td>-0.061488</td>\n",
       "      <td>1.000000</td>\n",
       "      <td>0.424233</td>\n",
       "    </tr>\n",
       "    <tr>\n",
       "      <th>LATracts20</th>\n",
       "      <td>0.030971</td>\n",
       "      <td>-0.026085</td>\n",
       "      <td>0.424233</td>\n",
       "      <td>1.000000</td>\n",
       "    </tr>\n",
       "  </tbody>\n",
       "</table>\n",
       "</div>"
      ],
      "text/plain": [
       "                    DIABETES_CrudePrev  LATracts1  LATracts10  LATracts20\n",
       "DIABETES_CrudePrev            1.000000  -0.105495    0.064192    0.030971\n",
       "LATracts1                    -0.105495   1.000000   -0.061488   -0.026085\n",
       "LATracts10                    0.064192  -0.061488    1.000000    0.424233\n",
       "LATracts20                    0.030971  -0.026085    0.424233    1.000000"
      ]
     },
     "execution_count": 17,
     "metadata": {},
     "output_type": "execute_result"
    }
   ],
   "source": [
    "df.loc[:, [\"DIABETES_CrudePrev\", \"LATracts1\", \"LATracts10\", \"LATracts20\"]].corr(method=\"kendall\")"
   ]
  },
  {
   "cell_type": "markdown",
   "id": "045a805d",
   "metadata": {},
   "source": [
    "Correlation and P value between Diabetes Crude Estimate and Uninsured Population + Check for any difference between Scipy Pearson and Pandas Pearson"
   ]
  },
  {
   "cell_type": "code",
   "execution_count": null,
   "id": "7b3b8b0c",
   "metadata": {},
   "outputs": [
    {
     "name": "stdout",
     "output_type": "stream",
     "text": [
      "Correlation: 0.0214465006979221, P-Value: 0.05503069267290367\n"
     ]
    },
    {
     "data": {
      "text/html": [
       "<div>\n",
       "<style scoped>\n",
       "    .dataframe tbody tr th:only-of-type {\n",
       "        vertical-align: middle;\n",
       "    }\n",
       "\n",
       "    .dataframe tbody tr th {\n",
       "        vertical-align: top;\n",
       "    }\n",
       "\n",
       "    .dataframe thead th {\n",
       "        text-align: right;\n",
       "    }\n",
       "</style>\n",
       "<table border=\"1\" class=\"dataframe\">\n",
       "  <thead>\n",
       "    <tr style=\"text-align: right;\">\n",
       "      <th></th>\n",
       "      <th>DIABETES_CrudePrev</th>\n",
       "      <th>UninsuredPop</th>\n",
       "    </tr>\n",
       "  </thead>\n",
       "  <tbody>\n",
       "    <tr>\n",
       "      <th>DIABETES_CrudePrev</th>\n",
       "      <td>1.000000</td>\n",
       "      <td>0.021447</td>\n",
       "    </tr>\n",
       "    <tr>\n",
       "      <th>UninsuredPop</th>\n",
       "      <td>0.021447</td>\n",
       "      <td>1.000000</td>\n",
       "    </tr>\n",
       "  </tbody>\n",
       "</table>\n",
       "</div>"
      ],
      "text/plain": [
       "                    DIABETES_CrudePrev  UninsuredPop\n",
       "DIABETES_CrudePrev            1.000000      0.021447\n",
       "UninsuredPop                  0.021447      1.000000"
      ]
     },
     "execution_count": 26,
     "metadata": {},
     "output_type": "execute_result"
    }
   ],
   "source": [
    "corr, p_val = pearsonr(df[\"DIABETES_CrudePrev\"], df[\"UninsuredPop\"])\n",
    "print(f'Correlation: {corr}, P-Value: {p_val}')\n",
    "df[[\"DIABETES_CrudePrev\", \"UninsuredPop\"]].corr(method='pearson')"
   ]
  },
  {
   "cell_type": "markdown",
   "id": "9d797892",
   "metadata": {},
   "source": [
    "From this we can conclude that the correlation observed is not statistically significant given the provided data (p-val > 0.05). <br>\n",
    "Additionally, we can now confidently interchange scipy and pandas pearson"
   ]
  },
  {
   "cell_type": "markdown",
   "id": "0f812736",
   "metadata": {},
   "source": [
    "Histogram of Diabetes Crude Estimate between Low Access Low Income Tracts and Not LALI Tracts"
   ]
  },
  {
   "cell_type": "code",
   "execution_count": 11,
   "id": "6f4c52b0",
   "metadata": {},
   "outputs": [
    {
     "data": {
      "text/plain": [
       "<Axes: xlabel='DIABETES_CrudePrev', ylabel='Percent'>"
      ]
     },
     "execution_count": 11,
     "metadata": {},
     "output_type": "execute_result"
    },
    {
     "data": {
      "image/png": "[encoded data removed]",
      "text/plain": [
       "<Figure size 640x480 with 1 Axes>"
      ]
     },
     "metadata": {},
     "output_type": "display_data"
    }
   ],
   "source": [
    "sns.histplot(data=df, x=\"DIABETES_CrudePrev\", hue=\"LILATracts_1And10\", common_norm=False, multiple=\"layer\", kde=True, stat='percent')"
   ]
  },
  {
   "cell_type": "markdown",
   "id": "4fc6c036",
   "metadata": {},
   "source": [
    "Prep prune for large correlation matrix"
   ]
  },
  {
   "cell_type": "code",
   "execution_count": 32,
   "id": "bb6ec652",
   "metadata": {},
   "outputs": [
    {
     "data": {
      "text/plain": [
       "['ACCESS2_Crude95CI',\n",
       " 'ARTHRITIS_Crude95CI',\n",
       " 'BINGE_Crude95CI',\n",
       " 'BPHIGH_Crude95CI',\n",
       " 'BPMED_Crude95CI',\n",
       " 'CANCER_Crude95CI',\n",
       " 'CASTHMA_Crude95CI',\n",
       " 'CERVICAL_Crude95CI',\n",
       " 'CHD_Crude95CI',\n",
       " 'CHECKUP_Crude95CI',\n",
       " 'CHOLSCREEN_Crude95CI',\n",
       " 'COLON_SCREEN_Crude95CI',\n",
       " 'COPD_Crude95CI',\n",
       " 'COREM_Crude95CI',\n",
       " 'COREW_Crude95CI',\n",
       " 'CSMOKING_Crude95CI',\n",
       " 'DENTAL_Crude95CI',\n",
       " 'DEPRESSION_Crude95CI',\n",
       " 'DIABETES_Crude95CI',\n",
       " 'GHLTH_Crude95CI',\n",
       " 'HIGHCHOL_Crude95CI',\n",
       " 'KIDNEY_Crude95CI',\n",
       " 'LPA_Crude95CI',\n",
       " 'MAMMOUSE_Crude95CI',\n",
       " 'MHLTH_Crude95CI',\n",
       " 'OBESITY_Crude95CI',\n",
       " 'PHLTH_Crude95CI',\n",
       " 'SLEEP_Crude95CI',\n",
       " 'STROKE_Crude95CI',\n",
       " 'TEETHLOST_Crude95CI',\n",
       " 'Unnamed: 0.1',\n",
       " 'Unnamed: 0',\n",
       " 'CountyName',\n",
       " 'County',\n",
       " 'Geolocation',\n",
       " 'GEOID']"
      ]
     },
     "execution_count": 32,
     "metadata": {},
     "output_type": "execute_result"
    }
   ],
   "source": [
    "d_cols = []\n",
    "for i in df.columns:\n",
    "    if re.match(string=i, pattern=r'\\S*(CI)$'):\n",
    "        d_cols.append(i)\n",
    "\n",
    "d_cols.append(\"Unnamed: 0.1\")\n",
    "d_cols.append(\"Unnamed: 0\")\n",
    "d_cols.append(\"CountyName\")\n",
    "d_cols.append(\"County\")\n",
    "d_cols.append(\"Geolocation\")\n",
    "d_cols.append(\"GEOID\")\n",
    "\n",
    "d_cols"
   ]
  },
  {
   "cell_type": "code",
   "execution_count": 34,
   "id": "e3f98c07",
   "metadata": {},
   "outputs": [],
   "source": [
    "corr_df = df.drop(columns=d_cols)"
   ]
  },
  {
   "cell_type": "code",
   "execution_count": null,
   "id": "624014e0",
   "metadata": {},
   "outputs": [
    {
     "data": {
      "text/plain": [
       "{'TotalPopulation, GHLTH_CrudePrev': (np.float64(0.014193198159746198),\n",
       "  np.float64(0.20420534208358535)),\n",
       " 'TotalPopulation, LowIncomeTracts': (np.float64(-0.015625065506566446),\n",
       "  np.float64(0.16218374372936253)),\n",
       " 'ACCESS2_CrudePrev, LATracts20': (np.float64(0.0008868562216509425),\n",
       "  np.float64(0.9367699192437369)),\n",
       " 'ACCESS2_CrudePrev, LALOWI1_10': (np.float64(0.016297358852763594),\n",
       "  np.float64(0.14486437110198735)),\n",
       " 'ACCESS2_CrudePrev, LALOWI1_20': (np.float64(0.015585726590300594),\n",
       "  np.float64(0.16324359448337575)),\n",
       " 'ARTHRITIS_CrudePrev, GHLTH_CrudePrev': (np.float64(0.014572778981525897),\n",
       "  np.float64(0.1923630467121403)),\n",
       " 'ARTHRITIS_CrudePrev, LPA_CrudePrev': (np.float64(-0.01983801310253705),\n",
       "  np.float64(0.07594631136302185)),\n",
       " 'ARTHRITIS_CrudePrev, LILATracts_halfAnd10': (np.float64(0.01932905600129045),\n",
       "  np.float64(0.08377922346334928)),\n",
       " 'ARTHRITIS_CrudePrev, LALOWI05_10': (np.float64(0.0051449860774465134),\n",
       "  np.float64(0.6453527684185226)),\n",
       " 'BINGE_CrudePrev, MHLTH_CrudePrev': (np.float64(-0.006257869340983127),\n",
       "  np.float64(0.5756303243136008)),\n",
       " 'BINGE_CrudePrev, Urban': (np.float64(-0.00794091474028926),\n",
       "  np.float64(0.4774965512505195)),\n",
       " 'BINGE_CrudePrev, LAhalfand10': (np.float64(0.00516619944905544),\n",
       "  np.float64(0.64399144794937)),\n",
       " 'BINGE_CrudePrev, LATracts_half': (np.float64(0.006507505346082326),\n",
       "  np.float64(0.5604927913984717)),\n",
       " 'BINGE_CrudePrev, LATracts10': (np.float64(-0.005881426753577525),\n",
       "  np.float64(0.5988154867411398)),\n",
       " 'BINGE_CrudePrev, LATracts20': (np.float64(0.010086942905877638),\n",
       "  np.float64(0.36689161371953305)),\n",
       " 'BPHIGH_CrudePrev, LATracts_half': (np.float64(-0.0031497277806039037),\n",
       "  np.float64(0.7781372627842615)),\n",
       " 'BPMED_CrudePrev, LILATracts_1And10': (np.float64(-0.001578129874518894),\n",
       "  np.float64(0.8877391625875748)),\n",
       " 'BPMED_CrudePrev, LILATracts_1And20': (np.float64(-0.01541621824267501),\n",
       "  np.float64(0.1678701861630631)),\n",
       " 'BPMED_CrudePrev, LATracts20': (np.float64(0.013238883307041033),\n",
       "  np.float64(0.2363004136452087)),\n",
       " 'BPMED_CrudePrev, LAPOP05_10': (np.float64(-0.0055393952265656195),\n",
       "  np.float64(0.6202409976621724)),\n",
       " 'BPMED_CrudePrev, LAPOP1_20': (np.float64(0.01814053739203718),\n",
       "  np.float64(0.10462690084334186)),\n",
       " 'BPMED_CrudePrev, LALOWI1_10': (np.float64(-0.011802823194061906),\n",
       "  np.float64(0.2910539602879353)),\n",
       " 'BPMED_CrudePrev, LALOWI1_20': (np.float64(-0.02045197295354416),\n",
       "  np.float64(0.06730335237290729)),\n",
       " 'CANCER_CrudePrev, DIABETES_CrudePrev': (np.float64(0.009531358135464855),\n",
       "  np.float64(0.3938756855262432)),\n",
       " 'CANCER_CrudePrev, LILATracts_1And10': (np.float64(-0.003384109789933823),\n",
       "  np.float64(0.7621084193517736)),\n",
       " 'CANCER_CrudePrev, LILATracts_1And20': (np.float64(-0.020068138751388572),\n",
       "  np.float64(0.07260624216078304)),\n",
       " 'CANCER_CrudePrev, LILATracts_Vehicle': (np.float64(-0.01752324397062883),\n",
       "  np.float64(0.11697594370130757)),\n",
       " 'CANCER_CrudePrev, LALOWI1_10': (np.float64(0.017238547645570278),\n",
       "  np.float64(0.12304402330859822)),\n",
       " 'CANCER_CrudePrev, LALOWI1_20': (np.float64(0.006322726485303528),\n",
       "  np.float64(0.5716789750300991)),\n",
       " 'CASTHMA_CrudePrev, LAhalfand10': (np.float64(0.0075834382898453765),\n",
       "  np.float64(0.497545568557564)),\n",
       " 'CASTHMA_CrudePrev, LA1and20': (np.float64(0.011521484421240583),\n",
       "  np.float64(0.30270793217716596)),\n",
       " 'CASTHMA_CrudePrev, LATracts_half': (np.float64(-0.014361165876121382),\n",
       "  np.float64(0.19890119792062214)),\n",
       " 'CASTHMA_CrudePrev, LATracts1': (np.float64(0.007697132901567521),\n",
       "  np.float64(0.49112082599548107)),\n",
       " 'CASTHMA_CrudePrev, LAPOP05_10': (np.float64(0.011714615879659137),\n",
       "  np.float64(0.2946748779998373)),\n",
       " 'CASTHMA_CrudePrev, LAPOP1_20': (np.float64(0.020060000335555106),\n",
       "  np.float64(0.07272227864272338)),\n",
       " 'CHD_CrudePrev, LAhalfand10': (np.float64(-0.01523342382124832),\n",
       "  np.float64(0.17296899304058055)),\n",
       " 'CHD_CrudePrev, LAPOP1_10': (np.float64(-0.006626313579316133),\n",
       "  np.float64(0.5533567925971841)),\n",
       " 'CHECKUP_CrudePrev, LATracts10': (np.float64(0.01895089251324573),\n",
       "  np.float64(0.09001274405563015)),\n",
       " 'CHECKUP_CrudePrev, LATracts20': (np.float64(-0.006621780789901187),\n",
       "  np.float64(0.5536282275307262)),\n",
       " 'CHECKUP_CrudePrev, LATractsVehicle_20': (np.float64(0.019988115638450828),\n",
       "  np.float64(0.07375380490208479)),\n",
       " 'CHOLSCREEN_CrudePrev, LATracts10': (np.float64(0.010868462860330162),\n",
       "  np.float64(0.33093876814234713)),\n",
       " 'CHOLSCREEN_CrudePrev, LATracts20': (np.float64(-0.010717300423164211),\n",
       "  np.float64(0.3377089482189322)),\n",
       " 'COPD_CrudePrev, LAhalfand10': (np.float64(-0.018790868718375632),\n",
       "  np.float64(0.09276051386107298)),\n",
       " 'COPD_CrudePrev, LATracts1': (np.float64(0.013699585699942),\n",
       "  np.float64(0.22038667557004815)),\n",
       " 'COPD_CrudePrev, LAPOP1_10': (np.float64(0.013891813202947582),\n",
       "  np.float64(0.21397914601116758)),\n",
       " 'COPD_CrudePrev, LAPOP1_20': (np.float64(-0.005975131567778593),\n",
       "  np.float64(0.5930047199618874)),\n",
       " 'COPD_CrudePrev, UninsuredPop': (np.float64(-0.021132762768450497),\n",
       "  np.float64(0.05868309486775152)),\n",
       " 'DENTAL_CrudePrev, Urban': (np.float64(-0.017635246943954203),\n",
       "  np.float64(0.11465408837330404)),\n",
       " 'DENTAL_CrudePrev, LATracts10': (np.float64(-0.02177356080271419),\n",
       "  np.float64(0.051426935051565315)),\n",
       " 'DENTAL_CrudePrev, TotalPop': (np.float64(-0.0071613267133910094),\n",
       "  np.float64(0.5217846828399486)),\n",
       " 'DEPRESSION_CrudePrev, HIGHCHOL_CrudePrev': (np.float64(0.014601167651165163),\n",
       "  np.float64(0.19149808834760038)),\n",
       " 'DEPRESSION_CrudePrev, LATracts_half': (np.float64(0.007886185180172357),\n",
       "  np.float64(0.48053711838226776)),\n",
       " 'DIABETES_CrudePrev, UninsuredPop': (np.float64(0.0214465006979221),\n",
       "  np.float64(0.05503069267290367)),\n",
       " 'GHLTH_CrudePrev, Urban': (np.float64(-0.015934937361916972),\n",
       "  np.float64(0.15401611757896394)),\n",
       " 'GHLTH_CrudePrev, Pop2010': (np.float64(0.014193198159746198),\n",
       "  np.float64(0.20420534208358535)),\n",
       " 'HIGHCHOL_CrudePrev, OBESITY_CrudePrev': (np.float64(-0.007187625153002947),\n",
       "  np.float64(0.5202569921021474)),\n",
       " 'LPA_CrudePrev, Urban': (np.float64(0.005075664181562075),\n",
       "  np.float64(0.6498096174094109)),\n",
       " 'LPA_CrudePrev, TotalPop': (np.float64(0.018636557929262654),\n",
       "  np.float64(0.09547355690856127)),\n",
       " 'OBESITY_CrudePrev, LAhalfand10': (np.float64(-0.02158430657339177),\n",
       "  np.float64(0.05348738252188121)),\n",
       " 'OBESITY_CrudePrev, LAPOP1_10': (np.float64(0.001136747020743142),\n",
       "  np.float64(0.9190080510528139)),\n",
       " 'OBESITY_CrudePrev, LAPOP05_10': (np.float64(-0.008450872610817471),\n",
       "  np.float64(0.44967714608262105)),\n",
       " 'OBESITY_CrudePrev, LAPOP1_20': (np.float64(-0.009959686365670437),\n",
       "  np.float64(0.3729683148872216)),\n",
       " 'OBESITY_CrudePrev, TotalPop': (np.float64(0.0023497477792244095),\n",
       "  np.float64(0.833521082954477)),\n",
       " 'SLEEP_CrudePrev, LATracts20': (np.float64(-0.0028895827089267644),\n",
       "  np.float64(0.7960388720778698)),\n",
       " 'STROKE_CrudePrev, LA1and10': (np.float64(0.008848309896263328),\n",
       "  np.float64(0.42864843678920234)),\n",
       " 'STROKE_CrudePrev, LA1and20': (np.float64(-0.017237777055692155),\n",
       "  np.float64(0.12306077515050744)),\n",
       " 'Urban, LILATracts_1And10': (np.float64(-0.015234103802500024),\n",
       "  np.float64(0.17294981371740537)),\n",
       " 'Urban, HUNVFlag': (np.float64(-0.01404810128144943),\n",
       "  np.float64(0.2088694697597369)),\n",
       " 'Urban, LowIncomeTracts': (np.float64(0.01931568720429583),\n",
       "  np.float64(0.08399347040743657)),\n",
       " 'Urban, PovertyRate': (np.float64(0.010997539122279004),\n",
       "  np.float64(0.32522774572671237)),\n",
       " 'Pop2010, LowIncomeTracts': (np.float64(-0.015625065506566446),\n",
       "  np.float64(0.16218374372936253)),\n",
       " 'OHU2010, LILATracts_1And10': (np.float64(-0.0049034826173187385),\n",
       "  np.float64(0.6609335905516281)),\n",
       " 'OHU2010, LILATracts_1And20': (np.float64(0.002515480733867058),\n",
       "  np.float64(0.8219692506448694)),\n",
       " 'LILATracts_halfAnd10, LA1and10': (np.float64(0.011975344307737565),\n",
       "  np.float64(0.28405875307094064)),\n",
       " 'LILATracts_halfAnd10, LA1and20': (np.float64(0.00038450418297442004),\n",
       "  np.float64(0.972562708830074)),\n",
       " 'LILATracts_halfAnd10, LATracts1': (np.float64(-0.005817836680969253),\n",
       "  np.float64(0.6027734390674946)),\n",
       " 'LILATracts_halfAnd10, LAPOP1_10': (np.float64(-0.011547825688962815),\n",
       "  np.float64(0.30160380638417655)),\n",
       " 'LILATracts_halfAnd10, LAPOP1_20': (np.float64(-0.016166936330048932),\n",
       "  np.float64(0.14810854852270738)),\n",
       " 'HUNVFlag, LATracts20': (np.float64(0.011749993805713142),\n",
       "  np.float64(0.29321900193425227)),\n",
       " 'PovertyRate, LATracts10': (np.float64(0.017221292327827823),\n",
       "  np.float64(0.12341956310110082)),\n",
       " 'PovertyRate, LATracts20': (np.float64(0.014807622987090934),\n",
       "  np.float64(0.18529362140922412)),\n",
       " 'LA1and20, LATracts10': (np.float64(-0.013825564673433249),\n",
       "  np.float64(0.2161720632984357)),\n",
       " 'LATracts10, LALOWI05_10': (np.float64(-0.0008863765161925804),\n",
       "  np.float64(0.9368040491307451)),\n",
       " 'LATracts10, LALOWI1_20': (np.float64(-0.013406881743345405),\n",
       "  np.float64(0.23040576854358036)),\n",
       " 'LATracts20, LAPOP05_10': (np.float64(0.008603161656117509),\n",
       "  np.float64(0.4415511204166009)),\n",
       " 'LATracts20, LAPOP1_20': (np.float64(0.01660175482780401),\n",
       "  np.float64(0.1375047182652127)),\n",
       " 'LATracts20, TractLOWI': (np.float64(-0.02125659030425521),\n",
       "  np.float64(0.057218193986306023)),\n",
       " 'LAPOP1_10, TractLOWI': (np.float64(0.011041891752149903),\n",
       "  np.float64(0.32328023598861527)),\n",
       " 'LAPOP1_20, TractLOWI': (np.float64(0.013160685011170806),\n",
       "  np.float64(0.23908026164368915))}"
      ]
     },
     "execution_count": 38,
     "metadata": {},
     "output_type": "execute_result"
    }
   ],
   "source": [
    "cols: list = corr_df.columns.to_list()\n",
    "si = {}\n",
    "while len(cols) != 0:\n",
    "    ptr = cols[0]\n",
    "    for i in cols[1:]:\n",
    "        corr, p = pearsonr(corr_df[ptr], corr_df[i])\n",
    "        if p <= 0.05:\n",
    "            si[f\"{ptr}, {i}\"] = (corr, p)\n",
    "    cols.pop(0)\n",
    "    \n",
    "si"
   ]
  }
 ],
 "metadata": {
  "kernelspec": {
   "display_name": "Python 3",
   "language": "python",
   "name": "python3"
  },
  "language_info": {
   "codemirror_mode": {
    "name": "ipython",
    "version": 3
   },
   "file_extension": ".py",
   "mimetype": "text/x-python",
   "name": "python",
   "nbconvert_exporter": "python",
   "pygments_lexer": "ipython3",
   "version": "3.13.5"
  }
 },
 "nbformat": 4,
 "nbformat_minor": 5
}
